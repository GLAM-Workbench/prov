{
 "cells": [
  {
   "cell_type": "markdown",
   "id": "e5e38677",
   "metadata": {},
   "source": [
    "# prov\n",
    "\n",
    "CURRENT VERSION: v1.0.0\n",
    "\n",
    "Tools and resources for working with the Public Record Office Victoria's collection API.\n",
    "\n",
    "For more information and documentation see the [Public Record Office Victoria](https://glam-workbench.net/prov) section of the [GLAM Workbench](https://glam-workbench.net).\n",
    "\n",
    "## Notebooks\n",
    "- [Getting started with the PROV API](https://github.com/GLAM-Workbench/prov/blob/master/getting-started.ipynb)\n"
   ]
  },
  {
   "cell_type": "markdown",
   "id": "41c86793",
   "metadata": {},
   "source": [
    "----\n",
    "Created by [Tim Sherratt](https://timsherratt.au) for the [GLAM Workbench](https://glam-workbench.net)"
   ]
  }
 ],
 "metadata": {
  "jupytext": {
   "cell_metadata_filter": "-all"
  },
  "kernelspec": {
   "display_name": "Python 3 (ipykernel)",
   "language": "python",
   "name": "python3"
  }
 },
 "nbformat": 4,
 "nbformat_minor": 5
}
