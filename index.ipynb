{
 "cells": [
  {
   "cell_type": "markdown",
   "id": "90efd9c8",
   "metadata": {},
   "source": [
    "# prov\n",
    "\n",
    "Current version: [v0.0.0](https://github.com/GLAM-Workbench/prov/releases/tag/v0.0.0)\n",
    "\n",
    "Tools and resources for working with the Public Record Office Victoria's collection API. For more information see the [prov](https://glam-workbench.net/prov/) section of the GLAM Workbench.\n",
    "\n",
    "## Notebook topics\n",
    "\n",
    "* [Notebook title](sample_notebook.ipynb) – this notebook does things\n",
    "\n",
    "See the [GLAM Workbench for more details](https://glam-workbench.net/prov/).\n"
   ]
  },
  {
   "cell_type": "markdown",
   "id": "c674625f",
   "metadata": {},
   "source": [
    "## Cite as\n",
    "\n",
    "See the GLAM Workbench or [Zenodo](https://doi.org/10.5281/zenodo.3521724) for up-to-date citation details.\n",
    "\n",
    "----\n",
    "\n",
    "This repository is part of the [GLAM Workbench](https://glam-workbench.net/).  \n"
   ]
  }
 ],
 "metadata": {
  "jupytext": {
   "cell_metadata_filter": "-all"
  },
  "kernelspec": {
   "display_name": "Python 3 (ipykernel)",
   "language": "python",
   "name": "python3"
  },
  "language_info": {
   "codemirror_mode": {
    "name": "ipython",
    "version": 3
   },
   "file_extension": ".py",
   "mimetype": "text/x-python",
   "name": "python",
   "nbconvert_exporter": "python",
   "pygments_lexer": "ipython3",
   "version": "3.10.12"
  },
  "rocrate": {
   "author": [
    {
     "mainEntityOfPage": "https://timsherratt.au",
     "name": "Sherratt, Tim",
     "orcid": "https://orcid.org/0000-0001-7956-4498"
    }
   ],
   "name": "prov"
  }
 },
 "nbformat": 4,
 "nbformat_minor": 5
}
