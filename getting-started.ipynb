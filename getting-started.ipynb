{
 "cells": [
  {
   "cell_type": "markdown",
   "id": "5e5b32fb-85a3-473e-9c0a-54e59a724bb2",
   "metadata": {},
   "source": [
    "# Getting started with the PROV API\n",
    "\n",
    "The Public Record Office Victoria's Public API provides data about its archival holdings in a machine readable format. This makes it possible to use, analyse, and visualise the collection in new ways. You can [read more about the API](https://prov.vic.gov.au/about-us/our-blog/new-prov-public-api) in this blog post.\n",
    "\n",
    "For an overview of the data currently available though the PROV API, see the [PROV Data Dashboard](https://wragge.github.io/prov-dashboard/).\n",
    "\n",
    "This notebook attempts to document the basic functionality of the API. You might also find it useful to consult [Solr's query guide](https://solr.apache.org/guide/solr/latest/query-guide/query-syntax-and-parsers.html).\n",
    "\n",
    "- [A simple API request](#A-simple-API-request)\n",
    "- [Using an 'empty' query to get everything](#Using-an-'empty'-query-to-get-everything)\n",
    "- [The different types of entities in API results](#The-different-types-of-entities-in-API-results)\n",
    "- [Identifiers and links](#Identifiers-and-links)\n",
    "- [Search facets](#Search-facets)\n",
    "- [Controlling the way results are delivered](#Controlling-the-way-results-are-delivered)\n",
    "- [Retrieving a random result](#Retrieving-a-random-result)\n",
    "- [Harvest a complete set of results](#Harvest-a-complete-set-of-results)\n",
    "- [Constructing queries](#Constructing-queries)\n",
    "  - [Boolean operators](#Boolean-operators)\n",
    "  - [Text searches](#Text-searches)\n",
    "  - [Filter results by using fields](#Filter-results-by-using-fields)\n",
    "  - [Filter by date](#Filter-by-date)\n",
    "  - [Find digitised records](#Find-digitised-records)\n",
    "  - [Find records about people](#Find-records-about-people)\n",
    "  - [Find an individual record](#Find-an-individual-record)\n",
    "  - [Find related entities](#Find-related-entities)\n",
    "  - [Filter by related entities](#Filter-by-related-entities)\n",
    "\n",
    "<div class=\"alert alert-block alert-info\">\n",
    "    <p>New to Jupyter notebooks? See <a href=\"https://glam-workbench.net/getting-started-jlite/lab/index.html?path=using_jupyter_notebooks.ipynb\">Using Jupyter notebooks in the GLAM Workbench</a> for an introduction.</p>\n",
    "</div>"
   ]
  },
  {
   "cell_type": "code",
   "execution_count": 1,
   "id": "7588b4ad-31cb-443c-87de-c8ec7322fb39",
   "metadata": {},
   "outputs": [],
   "source": [
    "import random\n",
    "\n",
    "import pandas as pd\n",
    "import requests\n",
    "from IPython.display import Image, display"
   ]
  },
  {
   "cell_type": "markdown",
   "id": "fb5e4dd8-797c-4ba9-a642-6f1b98cba663",
   "metadata": {},
   "source": [
    "## A simple API request"
   ]
  },
  {
   "cell_type": "markdown",
   "id": "d8059061-d042-47f6-925c-2360cfb87bd0",
   "metadata": {},
   "source": [
    "Making an API request is easy. The base url for API requests is `https://api.prov.vic.gov.au/search/query`. No authentication is required, and the only mandatory parameter is `q` which you use to pass along your search query. Here's an example of a simple search for records containing the word 'ostrich'."
   ]
  },
  {
   "cell_type": "code",
   "execution_count": 2,
   "id": "6e93791c-64a6-441e-8ac3-2064f81a51fe",
   "metadata": {},
   "outputs": [
    {
     "name": "stdout",
     "output_type": "stream",
     "text": [
      "API request url: https://api.prov.vic.gov.au/search/query?q=ostrich\n"
     ]
    }
   ],
   "source": [
    "api_url = \"https://api.prov.vic.gov.au/search/query\"\n",
    "\n",
    "params = {\n",
    "    \"q\": \"ostrich\",\n",
    "}\n",
    "response = requests.get(api_url, params=params)\n",
    "print(f\"API request url: {response.url}\")\n",
    "data = response.json()"
   ]
  },
  {
   "cell_type": "markdown",
   "id": "f7c7af8e-9626-422a-87a0-d673721d88ed",
   "metadata": {},
   "source": [
    "The number of matching search results is contained in the `response` -> `numFound` field."
   ]
  },
  {
   "cell_type": "code",
   "execution_count": 3,
   "id": "5364af40-961e-43bc-a4e7-a9f31d184fbb",
   "metadata": {},
   "outputs": [
    {
     "name": "stdout",
     "output_type": "stream",
     "text": [
      "There are 10 results.\n"
     ]
    }
   ],
   "source": [
    "print(f\"There are {data['response']['numFound']:,} results.\")"
   ]
  },
  {
   "cell_type": "markdown",
   "id": "ff6dca36-0c34-4a38-a53b-f05eb8357b9c",
   "metadata": {},
   "source": [
    "The full search results can be found in `response` -> `docs`. By looping through all the results you can display their titles."
   ]
  },
  {
   "cell_type": "code",
   "execution_count": 4,
   "id": "b4169706-f368-4a3e-b3f8-2ce909391b1c",
   "metadata": {},
   "outputs": [
    {
     "name": "stdout",
     "output_type": "stream",
     "text": [
      "D501 Head close-up of ostrich\n",
      "D502 Head close-up of ostrich\n",
      "110\n",
      "1004/312 Marinda McOstrich Jaffray: Will; Grant of probate\n",
      "1004/312 Marinda McOstrich Jaffray: Grant of probate\n",
      "M OSTRICH\n",
      "553055\n",
      "M OSTRICH\n",
      "MATT OSTRICHE\n",
      "V332 [Daryl Somers and Ozzie Ostrich on the children's show 'Hey, Hey' It's Saturday']\n"
     ]
    }
   ],
   "source": [
    "for result in data[\"response\"][\"docs\"]:\n",
    "    print(result[\"title\"])"
   ]
  },
  {
   "cell_type": "markdown",
   "id": "410ed139-da9e-4c65-84a7-8fab8c48812c",
   "metadata": {},
   "source": [
    "Here's the first result in full."
   ]
  },
  {
   "cell_type": "code",
   "execution_count": 5,
   "id": "eda78a1b-8a3a-4faa-bddb-6034e8e27d98",
   "metadata": {},
   "outputs": [
    {
     "data": {
      "text/plain": [
       "{'category': 'Item',\n",
       " 'entity': 'Record',\n",
       " '_id': 'B7BE47C9-5613-11EB-BE8C-6757FF78D049',\n",
       " 'timestamp': 1622643613,\n",
       " 'identifier.PROV_ACM.id': 'VPRS 14517/P0001/5/155',\n",
       " 'identifier.PID.id': 'B7BE47C9-5613-11EB-BE8C-6757FF78D049',\n",
       " 'title': 'D501 Head close-up of ostrich',\n",
       " 'consignment_id': 'P0001',\n",
       " 'start_dt': '1753-01-01T00:00:00Z',\n",
       " 'end_dt': '3000-12-31T00:00:00Z',\n",
       " 'date_range': ['[1753 TO 3000]'],\n",
       " 'date_range.not_described': ['[1753 TO 3000]'],\n",
       " 'description.subject': ['OSTRICHES'],\n",
       " 'description.aggregate': 'Subject : OSTRICHES',\n",
       " 'presentation_text': 'Subject : OSTRICHES',\n",
       " 'jurisdictional_coverage': ['Victoria'],\n",
       " 'rights_statement': ['Open Public Records Act 1973'],\n",
       " 'rights_status': ['Open'],\n",
       " 'item_discrete': 'No',\n",
       " 'format': 'Physical',\n",
       " 'medium': ['Polyester Negative'],\n",
       " 'location': ['North Melbourne', 'Online'],\n",
       " 'access_restriction': 'No',\n",
       " 'status': 'Published',\n",
       " 'citation': 'VPRS 14517/P0001/5, D501',\n",
       " 'citation_sort': '14517P00010000130000001550',\n",
       " 'is_part_of_series.id': ['VPRS14517'],\n",
       " 'is_part_of_series.title': ['Negatives of Photographs [Publications Branch]'],\n",
       " 'series_id': '14517',\n",
       " 'parents.ids': ['VPRS14517', 'D6BD4E47-F7E6-11E9-AE98-87DB74D2147D'],\n",
       " 'parents.titles': ['Negatives of Photographs [Publications Branch]',\n",
       "  '[Not Set]'],\n",
       " 'agencies.titles': ['Education Department'],\n",
       " 'agencies.ids': ['VA714'],\n",
       " 'agencies.date_ranges': ['[1873 TO 1985]'],\n",
       " 'resp_agency_title': ['Department of Education'],\n",
       " 'resp_agency_title_facet': ['Department of Education'],\n",
       " 'resp_agency_id': ['3098'],\n",
       " 'is_part_of_item.PID': ['D6BD4E47-F7E6-11E9-AE98-87DB74D2147D'],\n",
       " 'is_part_of_item.title': ['D332-D667'],\n",
       " 'iiif-manifest': 'https://images.prov.vic.gov.au/manifests/B7/BE/47/C9/-5613-11EB-BE8C-6757FF78D049/images/manifest.json',\n",
       " 'iiif-thumbnail': 'https://images.prov.vic.gov.au/loris/B7%2FBE%2F47%2FC9%2F-5613-11EB-BE8C-6757FF78D049%2Fimages%2F1%2Ffiles%2F14517-00013-D0501.tif/full/!200,200/0/default.jpg',\n",
       " 'control_symbol_labels': ['Registration Number'],\n",
       " 'control_symbol_values': ['D501'],\n",
       " 'record_form': ['Photograph or Image'],\n",
       " 'box_number_sort': [13],\n",
       " '_version_': 1816058689549762560}"
      ]
     },
     "execution_count": 5,
     "metadata": {},
     "output_type": "execute_result"
    }
   ],
   "source": [
    "data[\"response\"][\"docs\"][0]"
   ]
  },
  {
   "cell_type": "markdown",
   "id": "ff915e55-9e92-4577-84d1-a2e0c34df692",
   "metadata": {},
   "source": [
    "While no authentication is required to make a request, there is a limit on the number of requests you can make within a given time period. You can see the details in the response headers."
   ]
  },
  {
   "cell_type": "markdown",
   "id": "62e85a3b-0fc8-41cd-8469-22518fc8b51c",
   "metadata": {},
   "source": [
    "## Using an 'empty' query to get everything\n",
    "\n",
    "If you want information on all the records available through the PROV API you can set `q` to either `*` or `*:*` to get *everything*. For example, you can find out the total number of records available from the PROV API."
   ]
  },
  {
   "cell_type": "code",
   "execution_count": 7,
   "id": "b3619c8e-669a-47bb-a09a-32d1372e34dd",
   "metadata": {},
   "outputs": [
    {
     "name": "stdout",
     "output_type": "stream",
     "text": [
      "API request url: https://api.prov.vic.gov.au/search/query?q=%2A\n",
      "There are 10,147,135 results.\n"
     ]
    }
   ],
   "source": [
    "api_url = \"https://api.prov.vic.gov.au/search/query\"\n",
    "\n",
    "params = {\"q\": \"*\"}\n",
    "response = requests.get(api_url, params=params)\n",
    "print(f\"API request url: {response.url}\")\n",
    "data = response.json()\n",
    "print(f\"There are {data['response']['numFound']:,} results.\")"
   ]
  },
  {
   "cell_type": "markdown",
   "id": "3f6b16f2-8117-4dd7-995e-0f700ed45121",
   "metadata": {},
   "source": [
    "## The different types of entities in API results\n",
    "\n",
    "API search results are not all the same. They include a mix of functions, agencies, series, consignments, items, images, and relationships between entities. You can find out more about the different entities that PROV uses to describe its collection in the [PROV Archival Control Model](https://prov.vic.gov.au/recordkeeping-government/a-z-topics/archival-control-model).\n",
    "\n",
    "You can identify what type of entity each record relates to by looking at the `category` field. For example, the `category` field in the record above has the value 'Item'. \n",
    "\n",
    "The `category` field has one of the following values:\n",
    "\n",
    "- `Agency`\n",
    "- `Function`\n",
    "- `Image`\n",
    "- `Item`\n",
    "- `relatedEntity`\n",
    "- `Series`\n",
    "\n",
    "Using the `category` field you can [filter your search](#Filter-results-by-using-fields) to include only certain types of records.\n",
    "\n",
    "While some fields – like `_id`, `category`, and `title` – are present in all API results, other fields vary according to the type of entity."
   ]
  },
  {
   "cell_type": "markdown",
   "id": "151f6fad-d67d-4622-8f28-285603508ead",
   "metadata": {},
   "source": [
    "## Identifiers and links\n",
    "\n",
    "Each API record has a hash identifier in the `_id` field. These can be used to retrieve a specific API record. But the different entities in PROV's archival control model have other identifiers that are important to understand and recognise as they're used to create relationships between entities.\n",
    "\n",
    "### Functions, agencies, and series\n",
    "\n",
    "Identifiers for functions, agencies, and series have a standard format defined by the PROV's Archival Control Model. These identifiers can be found in the `identifier.PROV_ACM.id` field of an API result.\n",
    "\n",
    "entity | id format | example | field |\n",
    "-------|-----------|---------|---------|\n",
    "function | VF [number] | [VF 375](https://prov.vic.gov.au/archive/VF375) | `identifier.PROV_ACM.id`\n",
    "agency | VA [number] | [VA 3744](https://prov.vic.gov.au/archive/VA3744) | `identifier.PROV_ACM.id`\n",
    "series | VPRS [number] | [VPRS 851](https://prov.vic.gov.au/archive/VPRS851) | `identifier.PROV_ACM.id` and `series_id` (number only)\n",
    "\n",
    "You can use these identifiers to construct urls that point to the entity's page on the PROV website. The format is `https://prov.vic.gov.au/archive/[identifier]`. This works with or without a space between the letter prefix and the number, but it's probably safer to remove the space, for example:\n",
    "\n",
    "<https://prov.vic.gov.au/archive/VPRS851>\n",
    "\n",
    "These identifiers are used to create relationships between entities. However, depending on the relationship and the field, the form of the identifier might change – sometimes there's a space between the letter prefix and the number, sometimes there's not, and sometimes it's the numeric value only. For example, in the item record displayed above, the `series_id` field contains the numeric part of identifier of the series that contains the item, but the full identifier (without a space) is included in the `is_part_of_series.id`. These differences can be important if you're using these fields to retrieve information about related entities.\n",
    "\n",
    "### Items\n",
    "\n",
    "Items can be identified in a number of ways. As well as the hash identifier in the `_id` field, there's a `barcode` number, and `control_symbol_values` which can be combined with the series number to create a reference to the item. It seems that the hash identifier is used to create relationships between items and other entities. For example, images are linked back to items by including the hash identifier in the `is_part_of_item.PID` field.\n",
    "\n",
    "The hash identifiers can also be used to construct urls that point to an item's page on the PROV website. The format is `https://prov.vic.gov.au/archive/[hash identifier]`. For example, the item record above has an `_id` value of `B7BE47C9-5613-11EB-BE8C-6757FF78D049`, so the website url is:\n",
    "\n",
    "<https://prov.vic.gov.au/archive/B7BE47C9-5613-11EB-BE8C-6757FF78D049>\n",
    "\n",
    "### Images\n",
    "\n",
    "Images add metadata to pages within digitised items. They have an `_id` value that you can use to retrieve an API record, but there's no way to build a url that will display a web page containing the image metadata. The best you can do and construct a link to the digitised page. To do this you need the id of the parent item from the image's `is_part_of_item.PID` and the `canvas _number` of the page. Then you can construct a url with the format: `https://prov.vic.gov.au/archive/[parent item id]?image=[canvas number + 1]`. For example:\n",
    "\n",
    "<https://prov.vic.gov.au/archive/29AF80BD-F7F0-11E9-AE98-6FA01622F08F?image=304>"
   ]
  },
  {
   "cell_type": "markdown",
   "id": "2bc9f5f6-8d3d-4540-a077-a88222ee6c5a",
   "metadata": {},
   "source": [
    "## Search facets\n",
    "\n",
    "Search facets tell you the number of results per value in a given field. To include facets in your API results you need to set the `facet` parameter to `true` and use `facet.field` to specify the name of the field you're interrested in.\n",
    "\n",
    "For example, if you wanted to know the number of results in each of the different categories described above:\n",
    "\n",
    "- set `q` to `*` to return everything\n",
    "- set `facet` to `true`\n",
    "- set `facet.field` to category\n",
    "\n",
    "The facet counts are included in the API results at  `facet_counts` -> `facet_fields` -> [name of the specified field]. "
   ]
  },
  {
   "cell_type": "code",
   "execution_count": 8,
   "id": "5b6bb6d7-d237-4476-a65d-da7beb9ca42a",
   "metadata": {},
   "outputs": [
    {
     "name": "stdout",
     "output_type": "stream",
     "text": [
      "['Item', 6337827, 'Image', 3613751, 'relatedEntity', 151117, 'Consignment', 23771, 'Series', 17095, 'Agency', 3252, 'Function', 322]\n"
     ]
    }
   ],
   "source": [
    "params = {\n",
    "    \"q\": \"*\",  # an empty query to get everything\n",
    "    \"facet\": \"true\",\n",
    "    \"facet.field\": \"category\",\n",
    "}\n",
    "response = requests.get(\"https://api.prov.vic.gov.au/search/query\", params=params)\n",
    "data = response.json()\n",
    "values = data[\"facet_counts\"][\"facet_fields\"][\"category\"]\n",
    "print(values)"
   ]
  },
  {
   "cell_type": "markdown",
   "id": "dc2fcd9b-a5ec-488a-8e23-7d6ddc4c3af9",
   "metadata": {},
   "source": [
    "The facet counts are just an array of paired value names and result counts. To convert the list into something more structured you can do this."
   ]
  },
  {
   "cell_type": "code",
   "execution_count": 9,
   "id": "84b3e291-8f23-4f0c-b7a7-8d2ac085273f",
   "metadata": {},
   "outputs": [
    {
     "data": {
      "text/html": [
       "<div>\n",
       "<style scoped>\n",
       "    .dataframe tbody tr th:only-of-type {\n",
       "        vertical-align: middle;\n",
       "    }\n",
       "\n",
       "    .dataframe tbody tr th {\n",
       "        vertical-align: top;\n",
       "    }\n",
       "\n",
       "    .dataframe thead th {\n",
       "        text-align: right;\n",
       "    }\n",
       "</style>\n",
       "<table border=\"1\" class=\"dataframe\">\n",
       "  <thead>\n",
       "    <tr style=\"text-align: right;\">\n",
       "      <th></th>\n",
       "      <th>category</th>\n",
       "      <th>count</th>\n",
       "    </tr>\n",
       "  </thead>\n",
       "  <tbody>\n",
       "    <tr>\n",
       "      <th>0</th>\n",
       "      <td>Item</td>\n",
       "      <td>6337827</td>\n",
       "    </tr>\n",
       "    <tr>\n",
       "      <th>1</th>\n",
       "      <td>Image</td>\n",
       "      <td>3613751</td>\n",
       "    </tr>\n",
       "    <tr>\n",
       "      <th>2</th>\n",
       "      <td>relatedEntity</td>\n",
       "      <td>151117</td>\n",
       "    </tr>\n",
       "    <tr>\n",
       "      <th>3</th>\n",
       "      <td>Consignment</td>\n",
       "      <td>23771</td>\n",
       "    </tr>\n",
       "    <tr>\n",
       "      <th>4</th>\n",
       "      <td>Series</td>\n",
       "      <td>17095</td>\n",
       "    </tr>\n",
       "    <tr>\n",
       "      <th>5</th>\n",
       "      <td>Agency</td>\n",
       "      <td>3252</td>\n",
       "    </tr>\n",
       "    <tr>\n",
       "      <th>6</th>\n",
       "      <td>Function</td>\n",
       "      <td>322</td>\n",
       "    </tr>\n",
       "  </tbody>\n",
       "</table>\n",
       "</div>"
      ],
      "text/plain": [
       "        category    count\n",
       "0           Item  6337827\n",
       "1          Image  3613751\n",
       "2  relatedEntity   151117\n",
       "3    Consignment    23771\n",
       "4         Series    17095\n",
       "5         Agency     3252\n",
       "6       Function      322"
      ]
     },
     "execution_count": 9,
     "metadata": {},
     "output_type": "execute_result"
    }
   ],
   "source": [
    "facets = [\n",
    "    {\"category\": values[i], \"count\": values[i + 1]}\n",
    "    for i in range(0, len(values), 2)\n",
    "    if values[i + 1] > 0\n",
    "]\n",
    "pd.DataFrame(facets)"
   ]
  },
  {
   "cell_type": "markdown",
   "id": "96bbc2da-d5d8-41fd-b6e0-6e62880e9f69",
   "metadata": {},
   "source": [
    "## Controlling the way results are delivered\n",
    "\n",
    "There are a number of parameters you can add to your API request to change the way the results are delivered. \n",
    "\n",
    "- `wt`: the encoding of the results – either `JSON` (the default) or `XML`\n",
    "- `rows`: the number of results to include (default is `10`)\n",
    "- `start`: the result number to start from (default is `0`)\n",
    "- `sort`: order in which to sort the results\n",
    "- `fl`: specify the fields you want to include in the results\n",
    "\n",
    "For example, to increase the number of results returned by your API request set the `rows` parameter to `100`."
   ]
  },
  {
   "cell_type": "code",
   "execution_count": 41,
   "id": "2628a533-f697-4b1e-b834-01f2e9f7b8f1",
   "metadata": {},
   "outputs": [
    {
     "name": "stdout",
     "output_type": "stream",
     "text": [
      "https://api.prov.vic.gov.au/search/query?q=rabbits&rows=100\n",
      "This requests delivers 100 of 365 results.\n"
     ]
    }
   ],
   "source": [
    "params = {\"q\": \"rabbits\", \"rows\": 100}\n",
    "response = requests.get(api_url, params=params)\n",
    "print(response.url)\n",
    "data = response.json()\n",
    "\n",
    "print(\n",
    "    f\"This requests delivers {len(data['response']['docs'])} of {data['response']['numFound']:,} results.\"\n",
    ")"
   ]
  },
  {
   "cell_type": "markdown",
   "id": "0e5d7337-ee4b-4c16-bf4f-55eabab8a4fb",
   "metadata": {},
   "source": [
    "By default, search results are sorted by their relevance score. You can change this using the `sort` parameter. You need to supply both the name of a field to sort on and a sort order – either ascending or descending. For example, to sort by `title` from A to Z, you'd set `sort` to `title asc`."
   ]
  },
  {
   "cell_type": "code",
   "execution_count": 42,
   "id": "67fe17fb-e634-43e5-b02f-3977cc00427c",
   "metadata": {},
   "outputs": [
    {
     "name": "stdout",
     "output_type": "stream",
     "text": [
      "https://api.prov.vic.gov.au/search/query?q=rabbits&rows=1&sort=title+asc\n",
      "'55/37/5\n"
     ]
    }
   ],
   "source": [
    "params = {\"q\": \"rabbits\", \"rows\": 1, \"sort\": \"title asc\"}\n",
    "response = requests.get(api_url, params=params)\n",
    "print(response.url)\n",
    "data = response.json()\n",
    "\n",
    "print(data[\"response\"][\"docs\"][0][\"title\"])"
   ]
  },
  {
   "cell_type": "markdown",
   "id": "50949871-c6f3-444a-9670-0c5efff405c6",
   "metadata": {},
   "source": [
    "Changing `asc` to `desc` will reverse the order of the results."
   ]
  },
  {
   "cell_type": "code",
   "execution_count": 43,
   "id": "aba6de9a-1be8-4fd6-8e3c-3aae15b36f92",
   "metadata": {},
   "outputs": [
    {
     "name": "stdout",
     "output_type": "stream",
     "text": [
      "https://api.prov.vic.gov.au/search/query?q=rabbits&rows=1&sort=title+desc\n",
      "Wire Netting Advances Files [SAMPLE ONLY RETAINED]\n"
     ]
    }
   ],
   "source": [
    "params = {\"q\": \"rabbits\", \"rows\": 1, \"sort\": \"title desc\"}\n",
    "response = requests.get(api_url, params=params)\n",
    "print(response.url)\n",
    "data = response.json()\n",
    "\n",
    "print(data[\"response\"][\"docs\"][0][\"title\"])"
   ]
  },
  {
   "cell_type": "markdown",
   "id": "7a561aec-be28-4c36-af5b-cf02404947f5",
   "metadata": {},
   "source": [
    "If you only want specific fields, you can supply a list of required field names using the `fl` parameter. "
   ]
  },
  {
   "cell_type": "code",
   "execution_count": 44,
   "id": "6ef97766-bf76-4769-88a8-902495170169",
   "metadata": {},
   "outputs": [
    {
     "name": "stdout",
     "output_type": "stream",
     "text": [
      "https://api.prov.vic.gov.au/search/query?q=rabbits&rows=1&fl=_id%2Ctitle\n",
      "{'_id': '3589932B-F1AF-11E9-AE98-C70783C3C724', 'title': \"Rabbit Inspector's Reports\"}\n"
     ]
    }
   ],
   "source": [
    "params = {\"q\": \"rabbits\", \"rows\": 1, \"fl\": \"_id,title\"}\n",
    "response = requests.get(api_url, params=params)\n",
    "print(response.url)\n",
    "data = response.json()\n",
    "\n",
    "print(data[\"response\"][\"docs\"][0])"
   ]
  },
  {
   "cell_type": "markdown",
   "id": "5b606d17-d3c3-4689-aa09-61125d9e42cb",
   "metadata": {},
   "source": [
    "## Retrieving a random result\n",
    "\n",
    "You can use the `start` and `rows` parameters to retrieve a random result:\n",
    "\n",
    "- first run a query and find the total number of results\n",
    "- select a random number within the range provided by the total number of results\n",
    "- set `start` to the random number and `rows` to `1`\n",
    "\n",
    "The cell below displays a randomly-selected photograph. It's similar to the code used by [PROVBot](https://updates.timsherratt.org/2025/04/09/introducing-provbot-sharing-photos-from.html) to share PROV photos through the Fediverse."
   ]
  },
  {
   "cell_type": "code",
   "execution_count": 14,
   "id": "d8d876b2-68e4-4c42-84c4-9d98e9bc0a9e",
   "metadata": {},
   "outputs": [
    {
     "name": "stdout",
     "output_type": "stream",
     "text": [
      "D642 Coarse cloddy soil\n"
     ]
    }
   ],
   "source": [
    "params = {\n",
    "    \"q\": 'iiif-manifest:[* TO *] AND record_form:\"Photograph or Image\"',\n",
    "    \"rows\": 1,\n",
    "}\n",
    "\n",
    "# Get total number of results\n",
    "response = requests.get(\"https://api.prov.vic.gov.au/search/select\", params=params)\n",
    "data = response.json()\n",
    "total_results = data[\"response\"][\"numFound\"]\n",
    "\n",
    "# Set a random start point within the range of total results\n",
    "params[\"start\"] = random.randrange(0, total_results)\n",
    "\n",
    "# Retrieve random result\n",
    "response = requests.get(\"https://api.prov.vic.gov.au/search/select\", params=params)\n",
    "data = response.json()\n",
    "item = data[\"response\"][\"docs\"][0]\n",
    "\n",
    "print(item[\"title\"])\n",
    "display(Image(url=item[\"iiif-thumbnail\"]))"
   ]
  },
  {
   "cell_type": "markdown",
   "id": "f06a883e-a938-4b6c-aeaf-806e92825814",
   "metadata": {},
   "source": [
    "## Harvest a complete set of results\n",
    "\n",
    "You can loop through a complete set of results by updating the `start` value after each request. You'll know when you've reached the end of the results set when the `docs` list is empty.\n",
    "\n",
    "The code below just saves the harvested results into a list named `harvested_results`. Alternatively, you could write the harvested results to a file."
   ]
  },
  {
   "cell_type": "code",
   "execution_count": 15,
   "id": "45acf11b-6722-4a6d-a6f2-28b75b67927f",
   "metadata": {},
   "outputs": [
    {
     "name": "stdout",
     "output_type": "stream",
     "text": [
      "Harvested 365 results.\n"
     ]
    }
   ],
   "source": [
    "params = {\n",
    "    \"q\": \"rabbits\",\n",
    "    \"category\": \"Item\",\n",
    "    \"rows\": 100,\n",
    "}\n",
    "\n",
    "start = 0\n",
    "harvested_results = []\n",
    "\n",
    "# Continue in this loop while there are results to harvest\n",
    "while True:\n",
    "    # Update the start parameter\n",
    "    params[\"start\"] = start\n",
    "    response = requests.get(api_url, params=params)\n",
    "    data = response.json()\n",
    "    results = data[\"response\"][\"docs\"]\n",
    "    # Add the results from this request to the harvested results\n",
    "    harvested_results += results\n",
    "    # Get the number of results returned by the current request\n",
    "    num_docs = len(results)\n",
    "    # Add the number of results from this request to the start value\n",
    "    start += num_docs\n",
    "    # There are no more results, so stop the harvest\n",
    "    if num_docs == 0:\n",
    "        break\n",
    "\n",
    "print(f\"Harvested {len(harvested_results)} results.\")"
   ]
  },
  {
   "cell_type": "markdown",
   "id": "7cc05c8c-20eb-4a3c-834b-5218f85f1daf",
   "metadata": {},
   "source": [
    "## Constructing queries\n",
    "\n",
    "### Boolean operators\n",
    "\n",
    "You can use standard Boolean operators, such as `AND`, `OR`, and `NOT`, to combine query terms. You can also use brackets to group parts of complex queries. See the [Solr documentation](https://solr.apache.org/guide/solr/latest/query-guide/standard-query-parser.html#boolean-operators-supported-by-the-standard-query-parser) for more.\n",
    "\n",
    "### Text searches\n",
    "\n",
    "To search for words or phrases across multiple fields, just add them to the `q` parameter. If you include multiple keywords, they'll be treated as if they were connected by an `OR` operator. So a `q` value of `murray river` is the same as `murray OR river`."
   ]
  },
  {
   "cell_type": "code",
   "execution_count": 16,
   "id": "b49d5b2c-2d69-400d-91bb-3f9a1dbd5a5c",
   "metadata": {},
   "outputs": [
    {
     "name": "stdout",
     "output_type": "stream",
     "text": [
      "https://api.prov.vic.gov.au/search/query?q=murray+river\n",
      "There are 64,746 results.\n"
     ]
    }
   ],
   "source": [
    "params = {\n",
    "    \"q\": \"murray river\",\n",
    "}\n",
    "response = requests.get(api_url, params=params)\n",
    "print(response.url)\n",
    "data = response.json()\n",
    "\n",
    "print(f\"There are {data['response']['numFound']:,} results.\")"
   ]
  },
  {
   "cell_type": "code",
   "execution_count": 17,
   "id": "d04aadf3-9446-4d2e-b5cb-ec36fd18bcd1",
   "metadata": {},
   "outputs": [
    {
     "name": "stdout",
     "output_type": "stream",
     "text": [
      "https://api.prov.vic.gov.au/search/query?q=murray+OR+river\n",
      "There are 64,746 results.\n"
     ]
    }
   ],
   "source": [
    "params = {\n",
    "    \"q\": \"murray OR river\",\n",
    "}\n",
    "response = requests.get(api_url, params=params)\n",
    "print(response.url)\n",
    "data = response.json()\n",
    "\n",
    "print(f\"There are {data['response']['numFound']:,} results.\")"
   ]
  },
  {
   "cell_type": "markdown",
   "id": "be33d226-50a9-4979-a569-96d99fbed272",
   "metadata": {},
   "source": [
    "If you want only records containing both keywords, use the `AND` operator."
   ]
  },
  {
   "cell_type": "code",
   "execution_count": 18,
   "id": "d0ca52c3-20fe-440e-815a-41e5632ffe9f",
   "metadata": {},
   "outputs": [
    {
     "name": "stdout",
     "output_type": "stream",
     "text": [
      "https://api.prov.vic.gov.au/search/query?q=murray+AND+river\n",
      "There are 2,584 results.\n"
     ]
    }
   ],
   "source": [
    "params = {\n",
    "    \"q\": \"murray AND river\",\n",
    "}\n",
    "response = requests.get(api_url, params=params)\n",
    "print(response.url)\n",
    "data = response.json()\n",
    "\n",
    "print(f\"There are {data['response']['numFound']:,} results.\")"
   ]
  },
  {
   "cell_type": "markdown",
   "id": "4edf0b90-f742-4fbb-a144-6d51283f1aad",
   "metadata": {},
   "source": [
    "To treat the keywords as a phrase, enclose them in quotes, eg `\"murray river\"`."
   ]
  },
  {
   "cell_type": "code",
   "execution_count": 19,
   "id": "d4b8c1d0-dae5-4a1e-bf97-5457c6830f2c",
   "metadata": {},
   "outputs": [
    {
     "name": "stdout",
     "output_type": "stream",
     "text": [
      "https://api.prov.vic.gov.au/search/query?q=%22murray+river%22\n",
      "There are 1,746 results.\n"
     ]
    }
   ],
   "source": [
    "params = {\n",
    "    \"q\": '\"murray river\"',\n",
    "}\n",
    "response = requests.get(api_url, params=params)\n",
    "print(response.url)\n",
    "data = response.json()\n",
    "\n",
    "print(f\"There are {data['response']['numFound']:,} results.\")"
   ]
  },
  {
   "cell_type": "markdown",
   "id": "8f00e202-02b1-4a2d-9d34-419fe2f765cc",
   "metadata": {},
   "source": [
    "Text fields are stemmed, so you generally don't need to worry about plurals and other word forms. For example a search for `box` will be the same as a search for `boxes`, `mine` will match `mining`, and `engine` will match `engineer`. There doesn't seem to be any way to search for an *exact* string, so there'll always be a bit of fuzziness.\n",
    "\n",
    "You can also use wildcards, fuzzy matches, and proximity searches. See the [Solr documentation for more information](https://solr.apache.org/guide/solr/latest/query-guide/standard-query-parser.html#specifying-terms-for-the-standard-query-parser). For example, a search for `\"gold mining\"` will return records that include the phrase \"gold mining\" (or \"gold mine\" because of word stemming). A search for `\"gold mining\"~10` will find records where `gold` and `mining` (or `mine`) occur wihin 10 words of each other."
   ]
  },
  {
   "cell_type": "code",
   "execution_count": 20,
   "id": "9801efe3-c83f-4b73-8ba2-e3b1a5d07e47",
   "metadata": {},
   "outputs": [
    {
     "name": "stdout",
     "output_type": "stream",
     "text": [
      "https://api.prov.vic.gov.au/search/query?q=%22gold+mining%22\n",
      "There are 3,910 results.\n"
     ]
    }
   ],
   "source": [
    "params = {\n",
    "    \"q\": '\"gold mining\"',\n",
    "}\n",
    "response = requests.get(api_url, params=params)\n",
    "print(response.url)\n",
    "data = response.json()\n",
    "\n",
    "print(f\"There are {data['response']['numFound']:,} results.\")"
   ]
  },
  {
   "cell_type": "code",
   "execution_count": 21,
   "id": "a45c888d-ced1-4f97-bfb3-a8033d98da27",
   "metadata": {},
   "outputs": [
    {
     "name": "stdout",
     "output_type": "stream",
     "text": [
      "https://api.prov.vic.gov.au/search/query?q=%22gold+mining%22~10\n",
      "There are 4,563 results.\n"
     ]
    }
   ],
   "source": [
    "params = {\n",
    "    \"q\": '\"gold mining\"~10',\n",
    "}\n",
    "response = requests.get(api_url, params=params)\n",
    "print(response.url)\n",
    "data = response.json()\n",
    "\n",
    "print(f\"There are {data['response']['numFound']:,} results.\")"
   ]
  },
  {
   "cell_type": "markdown",
   "id": "70ed73b4-41b0-4fd3-9b9c-eb56577f4d4d",
   "metadata": {},
   "source": [
    "### Filter results by using fields"
   ]
  },
  {
   "cell_type": "markdown",
   "id": "4876c542-e322-454e-b6ab-3e292aa9a263",
   "metadata": {},
   "source": [
    "You can filter search results by specifying the value of a particular field. To do this you add `[field]:[value]` to the `q` query string. For example, if you only want items in your results, you can ask for records where the `category` field includes the value `Item`. You can also combine multiple field values using  the `AND` and `OR` operators:\n",
    "\n",
    "- to include only items: `category:Item`\n",
    "- to include either items or images: `category:Item OR category:Image`\n",
    "\n",
    "Let's ask for items only."
   ]
  },
  {
   "cell_type": "code",
   "execution_count": 22,
   "id": "fa56293a-a692-41a5-94aa-f88d39563c65",
   "metadata": {},
   "outputs": [
    {
     "name": "stdout",
     "output_type": "stream",
     "text": [
      "https://api.prov.vic.gov.au/search/query?q=category%3AItem\n",
      "\n",
      "There are 6,337,827 results.\n",
      "\n",
      "211/374 Leslie A Lamb: Will; Grant of probate\n",
      "215/936 Ellen Cahill: Will; Grant of probate\n",
      "215/981 Florence M Lovegrove: Will; Grant of probate\n",
      "211/107 Amelia Hawking: Will; Grant of probate\n",
      "215/980 William F Finchett: Will; Grant of probate\n",
      "215/979 George Wilson: Will; Grant of probate\n",
      "211/102 Bernard F Cragen: Will; Grant of probate\n",
      "211/221 Jonathan Coulson: Will; Grant of probate\n",
      "215/978 William E S Ockenden: Will; Grant of probate\n",
      "215/959 Otto Holst: Will; Grant of probate\n"
     ]
    }
   ],
   "source": [
    "params = {\"q\": \"category:Item\"}\n",
    "response = requests.get(api_url, params=params)\n",
    "print(response.url)\n",
    "data = response.json()\n",
    "\n",
    "print(f\"\\nThere are {data['response']['numFound']:,} results.\\n\")\n",
    "\n",
    "for result in data[\"response\"][\"docs\"]:\n",
    "    print(result[\"title\"])"
   ]
  },
  {
   "cell_type": "markdown",
   "id": "efd0e9c3-81fa-4fb0-a072-1a0bd3683766",
   "metadata": {},
   "source": [
    "And now compare the number of results to a request for items *or* images."
   ]
  },
  {
   "cell_type": "code",
   "execution_count": 23,
   "id": "a7597b8f-df07-4bb0-8317-23ec6d9354db",
   "metadata": {},
   "outputs": [
    {
     "name": "stdout",
     "output_type": "stream",
     "text": [
      "https://api.prov.vic.gov.au/search/query?q=category%3AItem+OR+category%3AImage\n",
      "\n",
      "There are 9,951,578 results.\n",
      "\n"
     ]
    }
   ],
   "source": [
    "params = {\"q\": \"category:Item OR category:Image\"}\n",
    "response = requests.get(api_url, params=params)\n",
    "print(response.url)\n",
    "data = response.json()\n",
    "\n",
    "print(f\"\\nThere are {data['response']['numFound']:,} results.\\n\")"
   ]
  },
  {
   "cell_type": "markdown",
   "id": "3b70fdff-caaa-47fc-9638-5ef0d31c4e0b",
   "metadata": {},
   "source": [
    "Here are some commonly-used fields, with their range of possible values, that can be used to filter your results:\n",
    "\n",
    "- `category` – possible values:\n",
    "  - Agency\n",
    "  - Consignment\n",
    "  - Function\n",
    "  - Image\n",
    "  - Item\n",
    "  - Series\n",
    "  - relatedEntity\n",
    "- `format` – possible values:\n",
    "  - Digital\n",
    "  - Physical\n",
    "- `record_form` – possible values:\n",
    "  - Card\n",
    "  - Data\n",
    "  - Document\n",
    "  - File\n",
    "  - Map, Plan, or Drawing\n",
    "  - Moving Image\n",
    "  - Object\n",
    "  - Photograph or Image\n",
    "  - Sound Recording\n",
    "  - Volume\n",
    "  - Website\n",
    "- `location` – possible values:\n",
    "  - Ballarat\n",
    "  - Beechworth\n",
    "  - Bendigo\n",
    "  - Geelong\n",
    "  - North Melbourne\n",
    "  - Online\n",
    "- `rights_status` – posible values:\n",
    "  - Closed\n",
    "  - Closed Record and Open Metadata\n",
    "  - Not set\n",
    "  - Open\n",
    "\n",
    "For example, you might be interested in volumes held in Ballarat:"
   ]
  },
  {
   "cell_type": "code",
   "execution_count": 24,
   "id": "25537e79-b1f1-4707-9b1f-fabfa56eb237",
   "metadata": {},
   "outputs": [
    {
     "name": "stdout",
     "output_type": "stream",
     "text": [
      "https://api.prov.vic.gov.au/search/query?q=record_form%3AVolume+AND+location%3ABallarat\n",
      "\n",
      "There are 6,976 results.\n",
      "\n",
      "1966 - 1873\n",
      "Book 46, 16.04.1920 - 17.11.1920,\n",
      "Book 47, 17.11.1920 - 29.07.1921,\n",
      "Book 48, 01.08.1921 - 28.02.1922,\n",
      "Book 51, 13.04.1923 - 29.09.1923,\n",
      "Book 52, 01.10.1923 - 24.04.1924,\n",
      "Book 53, 28.04.1924 - 02.10.1924,\n",
      "Book 54, 08.10.1924 - 27.03.1925,\n",
      "Book 55, 27.03.1925 - 25.09.1925,\n",
      "Book 56, 25.09.1925 - 08.03.1926,\n"
     ]
    }
   ],
   "source": [
    "params = {\"q\": \"record_form:Volume AND location:Ballarat\"}\n",
    "response = requests.get(api_url, params=params)\n",
    "print(response.url)\n",
    "data = response.json()\n",
    "\n",
    "print(f\"\\nThere are {data['response']['numFound']:,} results.\\n\")\n",
    "\n",
    "for result in data[\"response\"][\"docs\"]:\n",
    "    print(result[\"title\"])"
   ]
  },
  {
   "cell_type": "markdown",
   "id": "3903137b-b5f6-44f8-94e9-fd9e31ea03f3",
   "metadata": {},
   "source": [
    "### Filter by date\n",
    "\n",
    "Most records include a start and end date – `start_dt` and `end_dt`. You ask for records within a specific date range by using a range query. For example, if you wanted all records with a start date between 1920 and 1949 you'd add `start_dt:[1920-01-01 TO 1949-12-31]` to the `q` query string."
   ]
  },
  {
   "cell_type": "code",
   "execution_count": 25,
   "id": "a33132b2-1379-44c6-b084-395de8f4c31d",
   "metadata": {},
   "outputs": [
    {
     "name": "stdout",
     "output_type": "stream",
     "text": [
      "https://api.prov.vic.gov.au/search/query?q=start_dt%3A%5B1920-01-01+TO+1949-12-31%5D\n",
      "\n",
      "There are 1,076,668 results.\n",
      "\n"
     ]
    }
   ],
   "source": [
    "params = {\"q\": \"start_dt:[1920-01-01 TO 1949-12-31]\"}\n",
    "response = requests.get(api_url, params=params)\n",
    "print(response.url)\n",
    "data = response.json()\n",
    "\n",
    "print(f\"\\nThere are {data['response']['numFound']:,} results.\\n\")"
   ]
  },
  {
   "cell_type": "markdown",
   "id": "ba9fb136-2664-4466-a9f0-c9fb19171c9a",
   "metadata": {},
   "source": [
    "You can use an asterisk instead of a date if the range is open ended. For example, to ask for all records with a start date greater than 1920 you'd add `start_dt:[1920-01-01 TO *]` to the query."
   ]
  },
  {
   "cell_type": "code",
   "execution_count": 26,
   "id": "d0ea8da6-9e71-472b-96ad-8a1efa3b39f9",
   "metadata": {},
   "outputs": [
    {
     "name": "stdout",
     "output_type": "stream",
     "text": [
      "https://api.prov.vic.gov.au/search/query?q=start_dt%3A%5B1920-01-01+TO+%2A%5D\n",
      "\n",
      "There are 3,808,984 results.\n",
      "\n"
     ]
    }
   ],
   "source": [
    "params = {\"q\": \"start_dt:[1920-01-01 TO *]\"}\n",
    "response = requests.get(api_url, params=params)\n",
    "print(response.url)\n",
    "data = response.json()\n",
    "\n",
    "print(f\"\\nThere are {data['response']['numFound']:,} results.\\n\")"
   ]
  },
  {
   "cell_type": "markdown",
   "id": "636379e3-938d-42b2-a9ac-cc4fd3e2af12",
   "metadata": {},
   "source": [
    "### Find digitised records\n",
    "\n",
    "Digitised items have a associated IIIF manifest that describes all the digitised images attached to the item. To find digitised items, filter your search to only include records with a value in the `iiif-manifest` field. You can do this by using a open-ended range query: `iiif-manifest:[* TO *]`."
   ]
  },
  {
   "cell_type": "code",
   "execution_count": 27,
   "id": "9bb2198e-b6ea-4341-bdef-d3db4776200a",
   "metadata": {},
   "outputs": [
    {
     "name": "stdout",
     "output_type": "stream",
     "text": [
      "https://api.prov.vic.gov.au/search/query?q=iiif-manifest%3A%5B%2A+TO+%2A%5D\n",
      "\n",
      "There are 925,524 results.\n",
      "\n"
     ]
    }
   ],
   "source": [
    "params = {\"q\": \"iiif-manifest:[* TO *]\"}\n",
    "response = requests.get(api_url, params=params)\n",
    "print(response.url)\n",
    "data = response.json()\n",
    "\n",
    "print(f\"\\nThere are {data['response']['numFound']:,} results.\\n\")"
   ]
  },
  {
   "cell_type": "markdown",
   "id": "3b6cf484-da32-4af8-b8af-d6dae5c7c1fa",
   "metadata": {},
   "source": [
    "The `iiif-manifest` values are urls that you can request to information about digitised images in a standard JSON format. See the [IIIF documentation](https://iiif.io/) for more information on using IIIF manifests."
   ]
  },
  {
   "cell_type": "code",
   "execution_count": 28,
   "id": "8cfc7464-644f-4ea4-bdf8-6421e01fe906",
   "metadata": {},
   "outputs": [
    {
     "name": "stdout",
     "output_type": "stream",
     "text": [
      "https://images.prov.vic.gov.au/manifests/0135/5021/14/images/manifest.json\n"
     ]
    }
   ],
   "source": [
    "print(data[\"response\"][\"docs\"][0][\"iiif-manifest\"])"
   ]
  },
  {
   "cell_type": "markdown",
   "id": "b5f90894-83cb-431e-8de5-5a6bfeb57c7f",
   "metadata": {},
   "source": [
    "Some digitised pages are also described in `Image` records. Details of these pages will be included in the IIIF manifest of their parent item, but the `Image` record attaches some additional metadata, such as the name of a person mentioned on the page. To filter your results to include only image records, add `category:Image` to your query."
   ]
  },
  {
   "cell_type": "code",
   "execution_count": 29,
   "id": "a08f1f28-dcc5-453d-8020-ac31e0f49657",
   "metadata": {},
   "outputs": [
    {
     "name": "stdout",
     "output_type": "stream",
     "text": [
      "https://api.prov.vic.gov.au/search/query?q=category%3AImage\n",
      "\n",
      "There are 3,613,751 results.\n",
      "\n"
     ]
    }
   ],
   "source": [
    "params = {\"q\": \"category:Image\"}\n",
    "response = requests.get(api_url, params=params)\n",
    "print(response.url)\n",
    "data = response.json()\n",
    "\n",
    "print(f\"\\nThere are {data['response']['numFound']:,} results.\\n\")"
   ]
  },
  {
   "cell_type": "markdown",
   "id": "6c0f1ab2-65e6-4c9e-94a1-9e05819d29b9",
   "metadata": {},
   "source": [
    "Digitised items and images both include a thumbnail url in the `iiif-thumbnail` field. To find either type of record, add `iiif-thumbnail:[* TO *]` to your query."
   ]
  },
  {
   "cell_type": "code",
   "execution_count": 30,
   "id": "3f594a6b-86e1-4ac5-b999-337c4c650f39",
   "metadata": {},
   "outputs": [
    {
     "name": "stdout",
     "output_type": "stream",
     "text": [
      "https://api.prov.vic.gov.au/search/query?q=iiif-thumbnail%3A%5B%2A+TO+%2A%5D\n",
      "\n",
      "There are 4,547,296 results.\n",
      "\n"
     ]
    }
   ],
   "source": [
    "params = {\"q\": \"iiif-thumbnail:[* TO *]\"}\n",
    "response = requests.get(api_url, params=params)\n",
    "print(response.url)\n",
    "data = response.json()\n",
    "\n",
    "print(f\"\\nThere are {data['response']['numFound']:,} results.\\n\")"
   ]
  },
  {
   "cell_type": "code",
   "execution_count": 31,
   "id": "ef96a68b-0a45-49d4-b75d-1736e8bccea0",
   "metadata": {},
   "outputs": [
    {
     "data": {
      "text/html": [
       "<img src=\"https://images.prov.vic.gov.au/loris/0135%2F5021%2F14%2Fimages%2F1%2Ffiles%2F00028-P0000-001145-0160-000.jp2/full/!200,200/0/default.jpg\"/>"
      ],
      "text/plain": [
       "<IPython.core.display.Image object>"
      ]
     },
     "execution_count": 31,
     "metadata": {},
     "output_type": "execute_result"
    }
   ],
   "source": [
    "Image(url=data[\"response\"][\"docs\"][0][\"iiif-thumbnail\"])"
   ]
  },
  {
   "cell_type": "markdown",
   "id": "7ac71f5b-0821-491b-ab6a-4658940c5ca7",
   "metadata": {},
   "source": [
    "Here's an alternative query you could use to find both digitised items and images."
   ]
  },
  {
   "cell_type": "code",
   "execution_count": 32,
   "id": "fab95aa1-db6c-4922-9142-7bf13425682e",
   "metadata": {},
   "outputs": [
    {
     "name": "stdout",
     "output_type": "stream",
     "text": [
      "https://api.prov.vic.gov.au/search/query?q=%28iiif-thumbnail%3A%5B%2A+TO+%2A%5D+AND+category%3AItem%29+OR+%28category%3AImage%29\n",
      "\n",
      "There are 4,547,296 results.\n",
      "\n"
     ]
    }
   ],
   "source": [
    "params = {\"q\": \"(iiif-thumbnail:[* TO *] AND category:Item) OR (category:Image)\"}\n",
    "response = requests.get(api_url, params=params)\n",
    "print(response.url)\n",
    "data = response.json()\n",
    "\n",
    "print(f\"\\nThere are {data['response']['numFound']:,} results.\\n\")"
   ]
  },
  {
   "cell_type": "markdown",
   "id": "5351d589-86af-4cc1-8e2e-9784198548ed",
   "metadata": {},
   "source": [
    "### Find records about people\n",
    "\n",
    "Some records have been indexed with the names of people related to that record. Names are attached to individual files, such as wills or inquests, and to specific pages within volumes or registers, such as passenger lists. You can find records containing particular names by using a text search. If you want to find any records that include names you can filter on the `family_name` field using an open ended range query: `family_name:[* TO *]`."
   ]
  },
  {
   "cell_type": "code",
   "execution_count": 33,
   "id": "55bade33-2710-4ac9-a68c-cb8ba7fa8273",
   "metadata": {},
   "outputs": [
    {
     "name": "stdout",
     "output_type": "stream",
     "text": [
      "https://api.prov.vic.gov.au/search/query?q=family_name%3A%5B%2A+TO+%2A%5D\n",
      "\n",
      "There are 6,097,812 results.\n",
      "\n"
     ]
    }
   ],
   "source": [
    "params = {\"q\": \"family_name:[* TO *]\"}\n",
    "response = requests.get(api_url, params=params)\n",
    "print(response.url)\n",
    "data = response.json()\n",
    "\n",
    "print(f\"\\nThere are {data['response']['numFound']:,} results.\\n\")"
   ]
  },
  {
   "cell_type": "markdown",
   "id": "4a9530d6-1f5e-463a-bd9a-4fb2e277204c",
   "metadata": {},
   "source": [
    "Names can also be included in other fields. I've [added more than 6 million named records in the PROV collection to the GLAM Name Index Search](https://updates.timsherratt.org/2025/04/09/more-than-million-rows-of.html)."
   ]
  },
  {
   "cell_type": "markdown",
   "id": "efdf240b-1a18-449c-bc2e-2c751fd66dd8",
   "metadata": {},
   "source": [
    "### Find an individual record\n",
    "\n",
    "There's no separate endpoint for retrieving individual entity records via the API. Instead you have to construct a search for a value that's unique to the entity, such as its identifier.\n",
    "\n",
    "This is pretty straightforward for functions, agencies, and series, as you can search for their standard identifiers in the `identifier.PROV_ACM.id` field. The identifier has to have a space between the letter prefix and the number, and should be enclosed in double quotes. For example, to retrieve details of the series VPRS 13:"
   ]
  },
  {
   "cell_type": "code",
   "execution_count": 34,
   "id": "ccce19f0-3a3c-412e-acad-66657cc66cf7",
   "metadata": {},
   "outputs": [
    {
     "name": "stdout",
     "output_type": "stream",
     "text": [
      "https://api.prov.vic.gov.au/search/query?q=identifier.PROV_ACM.id%3A%22VPRS+13%22+AND+category%3ASeries\n",
      "\n",
      "There are 1 results.\n",
      "\n"
     ]
    },
    {
     "data": {
      "text/plain": [
       "{'category': 'Series',\n",
       " 'entity': 'Record',\n",
       " '_id': '13912344-F1A4-11E9-AE98-91984FD5C262',\n",
       " 'timestamp': 1714524468,\n",
       " 'identifier.PROV_ACM.id': 'VPRS 13',\n",
       " 'series_id': '13',\n",
       " 'citation': 'VPRS 13',\n",
       " 'citation_sort': '00013',\n",
       " 'identifier.PID.id': '13912344-F1A4-11E9-AE98-91984FD5C262',\n",
       " 'title': 'Inwards Shipping Index [Refer to Microfilm Copy VPRS 3504]',\n",
       " 'date_range': ['1900'],\n",
       " 'start_dt': '1900',\n",
       " 'start_dt_qual': '?',\n",
       " 'end_dt': '1900',\n",
       " 'how_to_use': ['** Further research is required to determine the exact purpose and context of this series **<br/><br/>This series comprises an alphabetical index to shipping arrivals at Victorian ports. Monitoring of shipping arrivals for customs and immigration purposes was undertaken by the Victorian Government from 1839 until responsibility for these functions passed to the Commonwealth Government in 1901 and 1924 respectively.<br/><br/>Ships have been entered in lexicographical (ie. strict alphabetical) order. Each arrival of the ship is then listed in chronological order by date of arrival.<br/><br/>Entries in the volumes include the following details:<br/>name of vessel<br/>tonnage<br/>master<br/>port of embarkation<br/>date of arrival.<br/><br/>This Index covers the period 1839 to 1900. It is assumed that the Index must have been compiled sometime around or after 1900 in order that the correct alphabetical order could be determined. Evidence in the Index suggests that it was compiled from an existing index.<br/><br/>For the period 1901 to 1924 consult VPRS 3503 which is a microfilm copy of a self-indexing chronological record of ship arrivals. Note that the ships listed in VPRS 3503 are not in strict alphabetical order.<br/>'],\n",
       " 'resp_agency_title': ['Department of Transport (known as Ministry of Transport 1951 to 1992)'],\n",
       " 'resp_agency_title_facet': ['Department of Transport (known as Ministry of Transport 1951 to 1992)'],\n",
       " 'resp_agency_id': ['673'],\n",
       " 'format': 'Physical',\n",
       " 'rights_status': ['Open'],\n",
       " 'location': ['North Melbourne'],\n",
       " 'contents.date_range': ['[1839 TO 1900]'],\n",
       " 'contents.start_dt': [1839],\n",
       " 'contents.end_dt': [1900],\n",
       " 'series_in_custody.date_range': ['1900'],\n",
       " 'series_in_custody.start_dt': [1900],\n",
       " 'series_in_custody.end_dt': [1900],\n",
       " 'responsible_agents.resp_agency_id': [673],\n",
       " 'responsible_agents.title': ['Department of Transport (known as Ministry of Transport 1951 to 1992)'],\n",
       " 'responsible_agents.date_ranges': ['[1983 TO 1996]'],\n",
       " 'responsible_agents.start_dt': [1983],\n",
       " 'responsible_agents.end_dt': [1996],\n",
       " 'creating_agents.creating_agency_id': [606],\n",
       " 'creating_agents.title': ['Department of Trade and Customs'],\n",
       " 'creating_agents.date_ranges': ['1900'],\n",
       " 'creating_agents.start_dt': [1900],\n",
       " 'creating_agents.end_dt': [1900],\n",
       " 'status': 'Published',\n",
       " '_version_': 1816062577834196992}"
      ]
     },
     "metadata": {},
     "output_type": "display_data"
    }
   ],
   "source": [
    "params = {\"q\": 'identifier.PROV_ACM.id:\"VPRS 13\" AND category:Series'}\n",
    "response = requests.get(api_url, params=params)\n",
    "print(response.url)\n",
    "data = response.json()\n",
    "\n",
    "print(f\"\\nThere are {data['response']['numFound']:,} results.\\n\")\n",
    "display(data[\"response\"][\"docs\"][0])"
   ]
  },
  {
   "cell_type": "markdown",
   "id": "dd4344f4-b768-4afb-b4fe-0f029fcf4647",
   "metadata": {},
   "source": [
    "There are a number of identifiers associated with items, so it's really a matter of what information you have about the item that you can use to construct a search. The hash identifier in the `_id` field seems to be used in documenting relationships between items, and between images and items, so you might want to use it to look for further information."
   ]
  },
  {
   "cell_type": "code",
   "execution_count": 35,
   "id": "2c7685d0-856e-4a86-b6c6-6bb8cd2c431c",
   "metadata": {},
   "outputs": [
    {
     "name": "stdout",
     "output_type": "stream",
     "text": [
      "https://api.prov.vic.gov.au/search/query?q=_id%3A%22B7BE47C9-5613-11EB-BE8C-6757FF78D049%22+AND+category%3AItem\n",
      "\n",
      "There are 1 results.\n",
      "\n"
     ]
    }
   ],
   "source": [
    "params = {\"q\": '_id:\"B7BE47C9-5613-11EB-BE8C-6757FF78D049\" AND category:Item'}\n",
    "response = requests.get(api_url, params=params)\n",
    "print(response.url)\n",
    "data = response.json()\n",
    "\n",
    "print(f\"\\nThere are {data['response']['numFound']:,} results.\\n\")"
   ]
  },
  {
   "cell_type": "markdown",
   "id": "002144c6-c4ed-4157-bcb1-d727adbe91c4",
   "metadata": {},
   "source": [
    "### Find related entities\n",
    "\n",
    "The richness of the PROV Archival Control Models lies in the network of relationships between entities. These relationships are documented in fields within individual records, and in separate `relatedEntity` records.\n",
    "\n",
    "#### Items\n",
    "\n",
    "Items are part of series. The identifier of an item's parent series can be found in the following fields:\n",
    "- `series_id` (numeric value only, eg: `7591`)\n",
    "- `is_part_of_series.id` (no space between prefix and number, eg: `VPRS7591`)\n",
    "- `parents.ids` (no space between prefix and number, eg: `VPRS7591`)\n",
    "\n",
    "Items can also be part of another item. The identifier of a parent item can be found in the following field:\n",
    "- `parents.ids` (hash identifier)\n",
    "\n",
    "Items are part of series and series are created and controlled by agencies. Item records include agency identifiers in the following fields:\n",
    "- `resp_agency_id` (numeric value only, eg: `2620`)\n",
    "- `agencies.ids` (no space between prefix and number, eg: `VA2620`)\n",
    "\n",
    "#### Images\n",
    "\n",
    "Images are part of items. The identifier of an image's parent item can be found in the `is_part_of_item.PID` field.\n",
    "\n",
    "#### Series\n",
    "\n",
    "Series are created and controlled by agencies. Series records include agency identifiers in the following fields:\n",
    "\n",
    "- `resp_agency_id` (numeric value only, eg: `2620`)\n",
    "- `responsible_agents.resp_agency_id` (numeric value only, eg: `2620`)\n",
    "- `creating_agents.creating_agency_id` (numeric value only, eg: `2620`)\n",
    "\n",
    "As well as agencies, series can also be related to other series. These relationships are recorded in `relatedEntity` records, for example:\n",
    "\n",
    "- `Creating agency`\n",
    "- `Responsible agency`\n",
    "- `Controlled series`\n",
    "- `Controlling series`\n",
    "- `Previous series`\n",
    "- `Subsequent series`\n",
    "\n",
    "#### Agencies\n",
    "\n",
    "Agencies create and control series, perform functions, and are related to other agencies. These relationships are recorded in `relatedEntity` records, for example:\n",
    "\n",
    "- `Created series`\n",
    "- `Responsible series`\n",
    "- `Primary responsible function`\n",
    "- `Secondary responsible function`\n",
    "- `Subordinate agency`\n",
    "- `Superior agency`\n",
    "- `Subsequent agency`\n",
    "- `Previous agency`\n",
    "\n",
    "#### Functions\n",
    "\n",
    "Functions are performed by agencies, and are related to other functions. These relationships are recorded in `relatedEntity` records, for example:\n",
    "\n",
    "- `Primary responsible agency`\n",
    "- `Secondary responsible agency`\n",
    "- `Related function`\n",
    "- `Broader function`\n",
    "- `Narrower function`\n",
    "\n",
    "Where there are related identifiers in fields such as `series_id`, you can use these identifiers to construct a search that will return the related entity, as described in the previous section.\n",
    "\n",
    "The `relatedEntity` records are richer and more complex. As well as linking identifiers, they provide some extra context around the relationship, such as the date range when it was active. The two linked identifiers are in `entity_id` and `related_entity_id` fields. Which identifier goes where depends on the direction of the relationship. For example, to find the primary functions of the 'Superintendent, Port Phillip District' (VA 473), you'd search for `entity_id:VA473` and `relationship:\"Primary responsible function\"`."
   ]
  },
  {
   "cell_type": "code",
   "execution_count": 36,
   "id": "ada8b9c0-83e4-4530-891f-58f4ac4a64b5",
   "metadata": {},
   "outputs": [
    {
     "name": "stdout",
     "output_type": "stream",
     "text": [
      "https://api.prov.vic.gov.au/search/query?q=category%3ArelatedEntity+AND+entity_id%3AVA473+AND+relationship%3A%22Primary+responsible+function%22&rows=100\n",
      "\n",
      "There are 21 functions.\n",
      "\n",
      "Crown lands (public)\n",
      "Crown lands (government)\n",
      "Armed forces command\n",
      "Education\n",
      "Goldfields administration and mining\n",
      "Library, State\n",
      "Botanic gardens\n",
      "Crown solicitor's services\n",
      "Census and statistics\n",
      "Finance\n",
      "General superintendence\n",
      "Police\n",
      "Ports and harbours\n",
      "Immigration (nineteenth century)\n",
      "Postal services\n",
      "Buildings, government (design and construction)\n",
      "Roads and bridges\n",
      "Health, public\n",
      "Customs\n",
      "Aboriginal affairs\n",
      "Prisons and youth training centres\n"
     ]
    }
   ],
   "source": [
    "params = {\n",
    "    \"q\": 'category:relatedEntity AND entity_id:VA473 AND relationship:\"Primary responsible function\"',\n",
    "    \"rows\": 100,\n",
    "}\n",
    "response = requests.get(api_url, params=params)\n",
    "print(response.url)\n",
    "data = response.json()\n",
    "\n",
    "print(f\"\\nThere are {data['response']['numFound']:,} functions.\\n\")\n",
    "for result in data[\"response\"][\"docs\"]:\n",
    "    print(result[\"title\"])"
   ]
  },
  {
   "cell_type": "markdown",
   "id": "1a673e58-c82c-41b5-a088-9546ff8f3ec3",
   "metadata": {},
   "source": [
    "Here's the first of these records."
   ]
  },
  {
   "cell_type": "code",
   "execution_count": 37,
   "id": "ed173893-b23f-4262-b042-c2399437830f",
   "metadata": {},
   "outputs": [
    {
     "data": {
      "text/plain": [
       "{'category': 'relatedEntity',\n",
       " 'status': 'Published',\n",
       " '_id': 'VA473:VF309:2690:primaryresponsibilityfor',\n",
       " 'timestamp': 1614239338,\n",
       " 'entity_id': 'VA473',\n",
       " 'related_entity_id': 'VF309',\n",
       " 'sort_id': 309,\n",
       " 'title': 'Crown lands (public)',\n",
       " 'relationship': 'Primary responsible function',\n",
       " 'relationship_date_range': ['[1839 TO 1851]'],\n",
       " 'relationship_start_dt': 1839,\n",
       " 'relationship_end_dt': 1851,\n",
       " '_version_': 1816039025116446725}"
      ]
     },
     "execution_count": 37,
     "metadata": {},
     "output_type": "execute_result"
    }
   ],
   "source": [
    "data[\"response\"][\"docs\"][0]"
   ]
  },
  {
   "cell_type": "markdown",
   "id": "2e9826d9-acb6-4e08-8f8d-9d23041fba6c",
   "metadata": {},
   "source": [
    "To go in the other direction and find all the agencies with primary responsibility for the function 'Crown lands (public)' (VF 309), you'd search for `entity_id:VF309` and `relationship:\"Primary responsible agency\"`."
   ]
  },
  {
   "cell_type": "code",
   "execution_count": 38,
   "id": "cc8e931f-5049-426f-b4f8-dfb581a35f07",
   "metadata": {},
   "outputs": [
    {
     "name": "stdout",
     "output_type": "stream",
     "text": [
      "https://api.prov.vic.gov.au/search/query?q=category%3ArelatedEntity+AND+entity_id%3AVF309+AND+relationship%3A%22Primary+responsible+agency%22&rows=100\n",
      "\n",
      "There are 14 agencies.\n",
      "\n",
      "Superintendent, Port Phillip District\n",
      "Department of Conservation and Natural Resources\n",
      "Department of Crown Lands and Survey, Geelong Division\n",
      "Department of Conservation, Forests and Lands\n",
      "Department of Environment and Primary Industries\n",
      "Department of Conservation and Environment\n",
      "Police Magistrate Port Phillip District\n",
      "Department of Natural Resources and the Environment\n",
      "Department of Sustainability and Environment\n",
      "Colonial Secretary's Office\n",
      "Crown Lands Department\n",
      "Department of Environment, Land, Water and Planning\n",
      "Department of Energy, Environment and Climate Action \n",
      "Department of Crown Lands and Survey\n"
     ]
    }
   ],
   "source": [
    "params = {\n",
    "    \"q\": 'category:relatedEntity AND entity_id:VF309 AND relationship:\"Primary responsible agency\"',\n",
    "    \"rows\": 100,\n",
    "}\n",
    "response = requests.get(api_url, params=params)\n",
    "print(response.url)\n",
    "data = response.json()\n",
    "\n",
    "print(f\"\\nThere are {data['response']['numFound']:,} agencies.\\n\")\n",
    "for result in data[\"response\"][\"docs\"]:\n",
    "    print(result[\"title\"])"
   ]
  },
  {
   "cell_type": "markdown",
   "id": "aa316ede-91cf-4df3-81b6-84631371b95c",
   "metadata": {},
   "source": [
    "## Filter by related entities\n",
    "\n",
    "As described above, the API records of items, images, and series contain links to related entities. You can use these relationships to filter your searches. For example, if you want to limit your search for items to those in series VPRS 460, you'd add `series_id:460` to your query. "
   ]
  },
  {
   "cell_type": "code",
   "execution_count": 39,
   "id": "1986131d-f106-40f8-b6b7-24b02d09fab8",
   "metadata": {},
   "outputs": [
    {
     "name": "stdout",
     "output_type": "stream",
     "text": [
      "https://api.prov.vic.gov.au/search/query?q=category%3AItem+AND+series_id%3A460\n",
      "\n",
      "There are 74,409 results.\n",
      "\n"
     ]
    }
   ],
   "source": [
    "params = {\"q\": \"category:Item AND series_id:460\"}\n",
    "response = requests.get(api_url, params=params)\n",
    "print(response.url)\n",
    "data = response.json()\n",
    "\n",
    "print(f\"\\nThere are {data['response']['numFound']:,} results.\\n\")"
   ]
  },
  {
   "cell_type": "markdown",
   "id": "14c44a54-1d46-40fd-9c9e-96f4139b3e70",
   "metadata": {},
   "source": [
    "You could also use the `is_part_of_series.id` field, but the value needs to include the letter prefix: `VPRS460`."
   ]
  },
  {
   "cell_type": "code",
   "execution_count": 40,
   "id": "9228497f-808f-42b2-98ec-af53a735e84e",
   "metadata": {},
   "outputs": [
    {
     "name": "stdout",
     "output_type": "stream",
     "text": [
      "https://api.prov.vic.gov.au/search/query?q=category%3AItem+AND+is_part_of_series.id%3AVPRS460\n",
      "\n",
      "There are 74,409 results.\n",
      "\n"
     ]
    }
   ],
   "source": [
    "params = {\"q\": \"category:Item AND is_part_of_series.id:VPRS460\"}\n",
    "response = requests.get(api_url, params=params)\n",
    "print(response.url)\n",
    "data = response.json()\n",
    "\n",
    "print(f\"\\nThere are {data['response']['numFound']:,} results.\\n\")"
   ]
  },
  {
   "cell_type": "markdown",
   "id": "436efcc7-6ff8-441e-8d3c-7aa4b16d1aba",
   "metadata": {},
   "source": [
    "----\n",
    "\n",
    "Created by [Tim Sherratt](https://timsherratt.au) for the [GLAM Workbench](https://glam-workbench.net/).\n"
   ]
  }
 ],
 "metadata": {
  "kernelspec": {
   "display_name": "Python 3 (ipykernel)",
   "language": "python",
   "name": "python3"
  },
  "language_info": {
   "codemirror_mode": {
    "name": "ipython",
    "version": 3
   },
   "file_extension": ".py",
   "mimetype": "text/x-python",
   "name": "python",
   "nbconvert_exporter": "python",
   "pygments_lexer": "ipython3",
   "version": "3.10.12"
  },
  "rocrate": {
   "author": [
    {
     "mainEntityOfPage": "https://timsherratt.au",
     "name": "Sherratt, Tim",
     "orcid": "https://orcid.org/0000-0001-7956-4498"
    }
   ],
   "description": "This notebook attempts to document the basic functionality of the PROV API and provide an overview of the types of data available.",
   "mainEntityOfPage": "https://glam-workbench.net/prov/getting-started/",
   "name": "Getting started with the PROV API"
  }
 },
 "nbformat": 4,
 "nbformat_minor": 5
}
